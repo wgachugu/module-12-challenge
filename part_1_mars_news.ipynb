{
 "cells": [
  {
   "cell_type": "markdown",
   "metadata": {},
   "source": [
    "# Module 12 Challenge\n",
    "## Deliverable 1: Scrape Titles and Preview Text from Mars News"
   ]
  },
  {
   "cell_type": "code",
   "execution_count": 1,
   "metadata": {},
   "outputs": [],
   "source": [
    "# Import Splinter and BeautifulSoup\n",
    "from splinter import Browser\n",
    "# from bs4 import BeautifulSoup as soup\n",
    "from bs4 import BeautifulSoup\n",
    "from webdriver_manager.chrome import ChromeDriverManager\n",
    "from pprint import pprint"
   ]
  },
  {
   "cell_type": "code",
   "execution_count": 2,
   "metadata": {
    "scrolled": true
   },
   "outputs": [],
   "source": [
    "executable_path = {'executable_path': ChromeDriverManager().install()}\n",
    "browser = Browser('chrome', **executable_path, headless=False)"
   ]
  },
  {
   "cell_type": "markdown",
   "metadata": {},
   "source": [
    "### Step 1: Visit the Website\n",
    "\n",
    "1. Use automated browsing to visit the [Mars NASA news site](https://redplanetscience.com). Inspect the page to identify which elements to scrape.\n",
    "\n",
    "      > **Hint** To identify which elements to scrape, you might want to inspect the page by using Chrome DevTools."
   ]
  },
  {
   "cell_type": "code",
   "execution_count": 3,
   "metadata": {},
   "outputs": [],
   "source": [
    "# Visit the Mars NASA news site: https://redplanetscience.com\n",
    "url = 'https://redplanetscience.com'\n",
    "browser.visit(url)"
   ]
  },
  {
   "cell_type": "markdown",
   "metadata": {},
   "source": [
    "### Step 2: Scrape the Website\n",
    "\n",
    "Create a Beautiful Soup object and use it to extract text elements from the website."
   ]
  },
  {
   "cell_type": "code",
   "execution_count": 4,
   "metadata": {},
   "outputs": [],
   "source": [
    "# Create a Beautiful Soup object\n",
    "html = browser.html\n",
    "soup = BeautifulSoup(html, 'html.parser')"
   ]
  },
  {
   "cell_type": "code",
   "execution_count": 5,
   "metadata": {},
   "outputs": [],
   "source": [
    "# Extract all the text elements\n",
    "elements = soup.find_all('div', class_='list_text')\n",
    "# print(elements)"
   ]
  },
  {
   "cell_type": "markdown",
   "metadata": {},
   "source": [
    "### Step 3: Store the Results\n",
    "\n",
    "Extract the titles and preview text of the news articles that you scraped. Store the scraping results in Python data structures as follows:\n",
    "\n",
    "* Store each title-and-preview pair in a Python dictionary. And, give each dictionary two keys: `title` and `preview`. An example is the following:\n",
    "\n",
    "  ```python\n",
    "  {'title': \"Mars Rover Begins Mission!\", \n",
    "        'preview': \"NASA's Mars Rover begins a multiyear mission to collect data about the little-explored planet.\"}\n",
    "  ```\n",
    "\n",
    "* Store all the dictionaries in a Python list.\n",
    "\n",
    "* Print the list in your notebook."
   ]
  },
  {
   "cell_type": "code",
   "execution_count": 6,
   "metadata": {},
   "outputs": [],
   "source": [
    "# Create an empty list to store the dictionaries\n",
    "dict_list = []"
   ]
  },
  {
   "cell_type": "code",
   "execution_count": 7,
   "metadata": {},
   "outputs": [],
   "source": [
    "# Loop through the text elements\n",
    "for element in elements:\n",
    "# Extract the title and preview text from the elements\n",
    "    title = element.find('div', class_=\"content_title\").text\n",
    "#     print(title)\n",
    "    preview = element.find('div', class_=\"article_teaser_body\").text\n",
    "# Store each title and preview pair in a dictionary\n",
    "#     my_dict = {}\n",
    "#     my_dict['title'] = title\n",
    "#     my_dict['preview'] = preview\n",
    "    my_dict = {\n",
    "        'title': title,\n",
    "        'preview': preview\n",
    "    }\n",
    "# Add the dictionary to the list\n",
    "    dict_list.append(my_dict)\n"
   ]
  },
  {
   "cell_type": "code",
   "execution_count": 8,
   "metadata": {},
   "outputs": [
    {
     "name": "stdout",
     "output_type": "stream",
     "text": [
      "[{'preview': \"The agency's Mars 2020 mission is on its way. It will land at \"\n",
      "             'Jezero Crater in about seven months, on Feb. 18, 2021. ',\n",
      "  'title': 'NASA, ULA Launch Mars 2020 Perseverance Rover Mission to Red '\n",
      "           'Planet'},\n",
      " {'preview': 'In a 10-plus-hour marathon, the rover steered, turned and drove '\n",
      "             'in 3-foot (1-meter) increments over small ramps.',\n",
      "  'title': \"NASA's Mars 2020 Rover Completes Its First Drive\"},\n",
      " {'preview': 'The first helicopter attempting to fly on another planet is a '\n",
      "             'marvel of engineering. Get up to speed with these key facts '\n",
      "             'about its plans.',\n",
      "  'title': \"6 Things to Know About NASA's Ingenuity Mars Helicopter\"},\n",
      " {'preview': 'Listen to the marsquakes and other, less-expected sounds that '\n",
      "             'the Mars lander has been detecting.',\n",
      "  'title': \"NASA's InSight 'Hears' Peculiar Sounds on Mars\"},\n",
      " {'preview': 'NASA’s MAVEN spacecraft has discovered “layers” and “rifts” in '\n",
      "             'the electrically charged part of the upper atmosphere of Mars.',\n",
      "  'title': \"NASA's MAVEN Explores Mars to Understand Radio Interference at \"\n",
      "           'Earth'},\n",
      " {'preview': 'Perseverance is one of a few Mars spacecraft carrying laser '\n",
      "             'retroreflectors. The devices could provide new science and safer '\n",
      "             'Mars landings in the future.',\n",
      "  'title': \"NASA's New Mars Rover Is Ready for Space Lasers\"},\n",
      " {'preview': 'Team members searched for signs of ancient microscopic life '\n",
      "             \"there, just as NASA's latest rover will on the Red Planet next \"\n",
      "             'year.',\n",
      "  'title': 'NASA Perseverance Mars Rover Scientists Train in the Nevada '\n",
      "           'Desert'},\n",
      " {'preview': 'Engineers have a plan for pushing down on the heat probe, which '\n",
      "             'has been stuck at the Martian surface for a year.',\n",
      "  'title': \"Mars InSight Lander to Push on Top of the 'Mole'\"},\n",
      " {'preview': \"Teams with NASA's Mars 2020 and ESA's ExoMars practiced hunting \"\n",
      "             'for fossilized microbial life in the Australian Outback in '\n",
      "             'preparation for their Red Planet missions. ',\n",
      "  'title': 'Mars Scientists Investigate Ancient Life in Australia'},\n",
      " {'preview': \"After a months-long contest among students to name NASA's newest \"\n",
      "             'Mars rover, the agency will reveal the winning name — and the '\n",
      "             'winning student — this Thursday. ',\n",
      "  'title': 'NASA to Reveal Name of Its Next Mars Rover'},\n",
      " {'preview': 'Two astronauts collected Moon rocks on Apollo 11. It will take '\n",
      "             'three robotic systems working together to gather up the first '\n",
      "             'Mars rock samples for return to Earth.',\n",
      "  'title': \"The Extraordinary Sample-Gathering System of NASA's Perseverance \"\n",
      "           'Mars Rover'},\n",
      " {'preview': 'NASA spacecraft at Mars are going to be on their own for a few '\n",
      "             'weeks when the Sun comes between Mars and Earth, interrupting '\n",
      "             'communications.',\n",
      "  'title': \"What's Mars Solar Conjunction, and Why Does It Matter?\"},\n",
      " {'preview': \"Vaneeza Rupani's essay was chosen as the name for the small \"\n",
      "             \"spacecraft, which will mark NASA's first attempt at powered \"\n",
      "             'flight on another planet.',\n",
      "  'title': \"Alabama High School Student Names NASA's Mars Helicopter\"},\n",
      " {'preview': \"PIXL, an instrument on the end of the Perseverance rover's arm, \"\n",
      "             'will search for chemical fingerprints left by ancient microbes.',\n",
      "  'title': \"NASA's New Mars Rover Will Use X-Rays to Hunt Fossils\"},\n",
      " {'preview': 'A pair of zoomable cameras will help scientists and rover '\n",
      "             'drivers with high-resolution color images.',\n",
      "  'title': \"NASA's Perseverance Rover Will Look at Mars Through These 'Eyes'\"}]\n"
     ]
    }
   ],
   "source": [
    "# Print the list to confirm success\n",
    "pprint(dict_list)"
   ]
  },
  {
   "cell_type": "code",
   "execution_count": 9,
   "metadata": {},
   "outputs": [],
   "source": [
    "browser.quit()"
   ]
  },
  {
   "cell_type": "markdown",
   "metadata": {},
   "source": [
    "### (Optional) Step 4: Export the Data\n",
    "\n",
    "Optionally, store the scraped data in a file or database (to ease sharing the data with others). To do so, export the scraped data to either a JSON file or a MongoDB database."
   ]
  },
  {
   "cell_type": "code",
   "execution_count": 10,
   "metadata": {},
   "outputs": [],
   "source": [
    "# Export data to JSON\n"
   ]
  },
  {
   "cell_type": "code",
   "execution_count": 11,
   "metadata": {},
   "outputs": [],
   "source": [
    "# Export data to MongoDB\n"
   ]
  }
 ],
 "metadata": {
  "kernelspec": {
   "display_name": "PythonData",
   "language": "python",
   "name": "pythondata"
  },
  "language_info": {
   "codemirror_mode": {
    "name": "ipython",
    "version": 3
   },
   "file_extension": ".py",
   "mimetype": "text/x-python",
   "name": "python",
   "nbconvert_exporter": "python",
   "pygments_lexer": "ipython3",
   "version": "3.7.7"
  }
 },
 "nbformat": 4,
 "nbformat_minor": 4
}
